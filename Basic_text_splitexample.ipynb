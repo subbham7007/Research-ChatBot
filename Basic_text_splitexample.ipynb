{
 "cells": [
  {
   "cell_type": "code",
   "execution_count": 4,
   "metadata": {},
   "outputs": [],
   "source": [
    "text = \"\"\"Interstellar is a 2014 epic science fiction drama film directed by Christopher Nolan, who co-wrote the screenplay with his brother Jonathan Nolan. It stars Matthew McConaughey, Anne Hathaway, Jessica Chastain, Bill Irwin, Ellen Burstyn, and Michael Caine. Set in a dystopian future where Earth is suffering from catastrophic blight and famine, the film follows a group of astronauts who travel through a wormhole near Saturn in search of a new home for mankind.\n",
    "\n",
    "The screenplay had its origins in a script Jonathan developed in 2007 and was originally set to be directed by Steven Spielberg. Theoretical physicist Kip Thorne was an executive producer and scientific consultant on the film, and wrote the tie-in book The Science of Interstellar. It was Lynda Obst's final film as producer before her death. Cinematographer Hoyte van Hoytema shot it on 35 mm movie film in the Panavision anamorphic format and IMAX 70 mm. Filming began in late 2013 and took place in Alberta, Klaustur, and Los Angeles. Interstellar uses extensive practical and miniature effects, and the company DNEG created additional digital effects.\n",
    "\n",
    "Interstellar was released in theaters on November 7, 2014. In the United States, it was first released on film stock, expanding to venues using digital projectors. The film received generally positive reviews and grossed $681 million worldwide during its initial theatrical run, making it the tenth-highest-grossing film of 2014. Among its various accolades, Interstellar was nominated for five awards at the 87th Academy Awards, winning Best Visual Effects.\n",
    "\n",
    "Plot\n",
    "In the mid-21st century, humanity faces extinction due to dust storms and widespread crop blights. Joseph Cooper, a widowed former NASA test pilot, works as a farmer and raises his children, Murph and Tom, alongside his father-in-law Donald. Living in a post-truth society, Cooper is reprimanded by Murph's teachers for telling her that the Apollo missions were not fabricated. During a dust storm, the two discover that dust patterns in Murph's room, which she first attributes to a ghost, result from a gravitational anomaly, and translate into geographic coordinates. These lead them to a secret NASA facility headed by Professor John Brand, who explains that, 48 years earlier, a wormhole appeared near Saturn, leading to a system in another galaxy with twelve potentially habitable planets located near a black hole named Gargantua. Volunteers of the Lazarus expedition had previously travelled through the wormhole to evaluate the planets, with Miller, Edmunds, and Mann reporting back desirable results.\n",
    "\n",
    "Cooper is enlisted to pilot the Endurance spacecraft through the wormhole as part of a mission to colonize a habitable planet with 5,000 frozen embryos and ensure humanity's survival. Meanwhile, Professor Brand would continue his work on solving a gravity equation whose solution would supposedly enable construction of spacecraft for an exodus from Earth. Cooper accepts against Murph's wishes and promises to return. When she refuses to see him off, he leaves her his wristwatch to compare their relative time when he returns.\n",
    "\n",
    "The crew, consisting of Cooper, robots TARS and CASE, and scientists Dr. Amelia Brand (Professor Brand's daughter), Romilly, and Doyle, traverse the wormhole after a two-year voyage to Saturn. Cooper, Doyle and Brand use a lander to investigate Miller's planet, where time is severely dilated. After landing in knee-high water and finding only wreckage from Miller's expedition, a gigantic tidal wave kills Doyle and waterlogs the lander's engines.\n",
    "\n",
    "By the time they leave the planet, Cooper and Brand discover that 23 years have elapsed on the Endurance. Having enough fuel left for only one of the other two planets, they vote to go to Mann's, as he is still broadcasting. En route, they receive messages from Earth and Cooper watches Tom grow up, get married, and lose his first son. An adult Murph is now a scientist working on the gravity equation with Professor Brand. On his deathbed, Brand confesses that the Endurance crew was never supposed to return, knowing that a complete solution to the equation was not feasible without observations of gravitational singularities from inside a black hole.\n",
    "\n",
    "On Mann's planet, they awaken him from cryostasis, and he assures them that colonization is possible, despite the extreme environment. During a scouting mission, Mann attempts to kill Cooper and reveals that he falsified his data in the hope of being rescued. He steals Cooper's lander and heads for the Endurance. While a booby trap set by Mann kills Romilly, Brand rescues Cooper with the other lander and they race back to the Endurance. Mann is killed in a failed manual docking operation, severely damaging the Endurance, but Cooper is able to regain control of the station through his own docking maneuver.\n",
    "\n",
    "With insufficient fuel, Cooper and Brand resort to a slingshot around Gargantua, which costs them 51 years due to time dilation. In the process, Cooper and TARS jettison their landers to lighten the Endurance so that Brand and CASE may reach Edmunds' planet. Falling into Gargantua's event horizon, they eject from their craft and find themselves in a tesseract made up of infinite copies of Murph's bedroom across moments in time. Cooper deduces that the tesseract was constructed by advanced humans in the far future, and realizes that he had always been Murph's \"ghost\". He uses Morse code to manipulate the second hand of the wristwatch he gave her before he left, giving Murphy the data that TARS collected, which enables her to complete Brand's solution.\n",
    "\n",
    "The tesseract, its purpose fulfilled, collapses before ejecting Cooper and TARS. Cooper wakes up on a station orbiting Saturn. He reunites with Murph, now on her deathbed, who tells him to seek out Brand. Cooper and TARS take a spacecraft to rejoin Brand and CASE, who are setting up the human colony on Edmunds' habitable planet.\n",
    "\n",
    "Cast\n",
    "Matthew McConaughey\n",
    "Anne Hathaway\n",
    "Matthew McConaughey and Anne Hathaway played the protagonists of Interstellar.\n",
    "Matthew McConaughey as Joseph \"Coop\" Cooper,[a] a widowed NASA pilot who reluctantly becomes a farmer after the agency was closed by the government, and eventually joins the Endurance mission as the lead pilot\n",
    "Anne Hathaway as Dr. Amelia Brand, Professor Brand's daughter and NASA scientist who, aboard the Endurance mission, is responsible for conducting planet colonization[4]\n",
    "Jessica Chastain as Murphy \"Murph\" Cooper, Joseph's daughter, who eventually becomes a NASA scientist working under Professor Brand\n",
    "Ellen Burstyn as elderly Murph\n",
    "Mackenzie Foy as 10-year-old Murph\n",
    "John Lithgow as Donald, Cooper's elderly father-in-law\n",
    "Michael Caine as Professor John Brand, a high-ranking NASA scientist, father of Amelia, former mentor of Cooper, and director of the Lazarus and Endurance missions\n",
    "Casey Affleck as Tom Cooper, Joseph's son, who eventually takes charge of his father's farm\n",
    "Timothée Chalamet as 15-year-old Tom\n",
    "Wes Bentley as Doyle, a high-ranking NASA member, and Endurance crew member\n",
    "Bill Irwin as TARS (voice and puppetry) and CASE (puppetry), robots assigned to assist the crew of the Endurance\n",
    "Topher Grace as Getty, Murph's colleague and love interest\n",
    "David Gyasi as Professor Romilly, a high-ranking NASA member, and Endurance crew member\n",
    "Matt Damon as Dr. Mann, a NASA astronaut sent to an icy planet during the Lazarus program\n",
    "Also appearing are Josh Stewart as the voice of CASE; Leah Cairns as Lois, Tom's wife; Liam Dickinson as Coop, Tom's son; David Oyelowo and Collette Wolfe respectively as school principal and teacher Ms. Hanley; Francis X. McCarthy as farmer \"Boots\"; William Devane as Williams, another NASA member; Elyes Gabel as Cooper Station Administrator; and Jeff Hephner as Cooper Station Doctor.\"\"\""
   ]
  },
  {
   "cell_type": "code",
   "execution_count": 6,
   "metadata": {},
   "outputs": [
    {
     "data": {
      "text/plain": [
       "'Interstellar is a 2014 epic science fiction drama film directed by Christopher Nolan, who co-wrote the screenplay with his brother Jonathan Nolan. It stars Matthew McConaughey, Anne Hathaway, Jessica '"
      ]
     },
     "execution_count": 6,
     "metadata": {},
     "output_type": "execute_result"
    }
   ],
   "source": [
    "text[:200] # But issue is it cuts wordds in between , to have a complete word"
   ]
  },
  {
   "cell_type": "code",
   "execution_count": 11,
   "metadata": {},
   "outputs": [
    {
     "name": "stderr",
     "output_type": "stream",
     "text": [
      "Created a chunk of size 461, which is longer than the specified 200\n",
      "Created a chunk of size 655, which is longer than the specified 200\n",
      "Created a chunk of size 458, which is longer than the specified 200\n",
      "Created a chunk of size 1010, which is longer than the specified 200\n",
      "Created a chunk of size 528, which is longer than the specified 200\n",
      "Created a chunk of size 448, which is longer than the specified 200\n",
      "Created a chunk of size 655, which is longer than the specified 200\n",
      "Created a chunk of size 612, which is longer than the specified 200\n",
      "Created a chunk of size 760, which is longer than the specified 200\n",
      "Created a chunk of size 330, which is longer than the specified 200\n",
      "Created a chunk of size 209, which is longer than the specified 200\n"
     ]
    },
    {
     "data": {
      "text/plain": [
       "22"
      ]
     },
     "execution_count": 11,
     "metadata": {},
     "output_type": "execute_result"
    }
   ],
   "source": [
    "from langchain.text_splitter import CharacterTextSplitter\n",
    "\n",
    "splitter = CharacterTextSplitter(\n",
    "    separator = \"\\n\", # Take based on punctuation\n",
    "    chunk_size = 200,\n",
    "    chunk_overlap = 0\n",
    ")\n",
    "\n",
    "chunks = splitter.split_text(text)\n",
    "len(chunks)"
   ]
  },
  {
   "cell_type": "code",
   "execution_count": 12,
   "metadata": {},
   "outputs": [
    {
     "data": {
      "text/plain": [
       "['Interstellar is a 2014 epic science fiction drama film directed by Christopher Nolan, who co-wrote the screenplay with his brother Jonathan Nolan. It stars Matthew McConaughey, Anne Hathaway, Jessica Chastain, Bill Irwin, Ellen Burstyn, and Michael Caine. Set in a dystopian future where Earth is suffering from catastrophic blight and famine, the film follows a group of astronauts who travel through a wormhole near Saturn in search of a new home for mankind.',\n",
       " \"The screenplay had its origins in a script Jonathan developed in 2007 and was originally set to be directed by Steven Spielberg. Theoretical physicist Kip Thorne was an executive producer and scientific consultant on the film, and wrote the tie-in book The Science of Interstellar. It was Lynda Obst's final film as producer before her death. Cinematographer Hoyte van Hoytema shot it on 35 mm movie film in the Panavision anamorphic format and IMAX 70 mm. Filming began in late 2013 and took place in Alberta, Klaustur, and Los Angeles. Interstellar uses extensive practical and miniature effects, and the company DNEG created additional digital effects.\",\n",
       " 'Interstellar was released in theaters on November 7, 2014. In the United States, it was first released on film stock, expanding to venues using digital projectors. The film received generally positive reviews and grossed $681 million worldwide during its initial theatrical run, making it the tenth-highest-grossing film of 2014. Among its various accolades, Interstellar was nominated for five awards at the 87th Academy Awards, winning Best Visual Effects.',\n",
       " 'Plot',\n",
       " \"In the mid-21st century, humanity faces extinction due to dust storms and widespread crop blights. Joseph Cooper, a widowed former NASA test pilot, works as a farmer and raises his children, Murph and Tom, alongside his father-in-law Donald. Living in a post-truth society, Cooper is reprimanded by Murph's teachers for telling her that the Apollo missions were not fabricated. During a dust storm, the two discover that dust patterns in Murph's room, which she first attributes to a ghost, result from a gravitational anomaly, and translate into geographic coordinates. These lead them to a secret NASA facility headed by Professor John Brand, who explains that, 48 years earlier, a wormhole appeared near Saturn, leading to a system in another galaxy with twelve potentially habitable planets located near a black hole named Gargantua. Volunteers of the Lazarus expedition had previously travelled through the wormhole to evaluate the planets, with Miller, Edmunds, and Mann reporting back desirable results.\",\n",
       " \"Cooper is enlisted to pilot the Endurance spacecraft through the wormhole as part of a mission to colonize a habitable planet with 5,000 frozen embryos and ensure humanity's survival. Meanwhile, Professor Brand would continue his work on solving a gravity equation whose solution would supposedly enable construction of spacecraft for an exodus from Earth. Cooper accepts against Murph's wishes and promises to return. When she refuses to see him off, he leaves her his wristwatch to compare their relative time when he returns.\",\n",
       " \"The crew, consisting of Cooper, robots TARS and CASE, and scientists Dr. Amelia Brand (Professor Brand's daughter), Romilly, and Doyle, traverse the wormhole after a two-year voyage to Saturn. Cooper, Doyle and Brand use a lander to investigate Miller's planet, where time is severely dilated. After landing in knee-high water and finding only wreckage from Miller's expedition, a gigantic tidal wave kills Doyle and waterlogs the lander's engines.\",\n",
       " \"By the time they leave the planet, Cooper and Brand discover that 23 years have elapsed on the Endurance. Having enough fuel left for only one of the other two planets, they vote to go to Mann's, as he is still broadcasting. En route, they receive messages from Earth and Cooper watches Tom grow up, get married, and lose his first son. An adult Murph is now a scientist working on the gravity equation with Professor Brand. On his deathbed, Brand confesses that the Endurance crew was never supposed to return, knowing that a complete solution to the equation was not feasible without observations of gravitational singularities from inside a black hole.\",\n",
       " \"On Mann's planet, they awaken him from cryostasis, and he assures them that colonization is possible, despite the extreme environment. During a scouting mission, Mann attempts to kill Cooper and reveals that he falsified his data in the hope of being rescued. He steals Cooper's lander and heads for the Endurance. While a booby trap set by Mann kills Romilly, Brand rescues Cooper with the other lander and they race back to the Endurance. Mann is killed in a failed manual docking operation, severely damaging the Endurance, but Cooper is able to regain control of the station through his own docking maneuver.\",\n",
       " 'With insufficient fuel, Cooper and Brand resort to a slingshot around Gargantua, which costs them 51 years due to time dilation. In the process, Cooper and TARS jettison their landers to lighten the Endurance so that Brand and CASE may reach Edmunds\\' planet. Falling into Gargantua\\'s event horizon, they eject from their craft and find themselves in a tesseract made up of infinite copies of Murph\\'s bedroom across moments in time. Cooper deduces that the tesseract was constructed by advanced humans in the far future, and realizes that he had always been Murph\\'s \"ghost\". He uses Morse code to manipulate the second hand of the wristwatch he gave her before he left, giving Murphy the data that TARS collected, which enables her to complete Brand\\'s solution.',\n",
       " \"The tesseract, its purpose fulfilled, collapses before ejecting Cooper and TARS. Cooper wakes up on a station orbiting Saturn. He reunites with Murph, now on her deathbed, who tells him to seek out Brand. Cooper and TARS take a spacecraft to rejoin Brand and CASE, who are setting up the human colony on Edmunds' habitable planet.\",\n",
       " 'Cast\\nMatthew McConaughey\\nAnne Hathaway\\nMatthew McConaughey and Anne Hathaway played the protagonists of Interstellar.',\n",
       " 'Matthew McConaughey as Joseph \"Coop\" Cooper,[a] a widowed NASA pilot who reluctantly becomes a farmer after the agency was closed by the government, and eventually joins the Endurance mission as the lead pilot',\n",
       " \"Anne Hathaway as Dr. Amelia Brand, Professor Brand's daughter and NASA scientist who, aboard the Endurance mission, is responsible for conducting planet colonization[4]\",\n",
       " 'Jessica Chastain as Murphy \"Murph\" Cooper, Joseph\\'s daughter, who eventually becomes a NASA scientist working under Professor Brand\\nEllen Burstyn as elderly Murph\\nMackenzie Foy as 10-year-old Murph',\n",
       " \"John Lithgow as Donald, Cooper's elderly father-in-law\",\n",
       " 'Michael Caine as Professor John Brand, a high-ranking NASA scientist, father of Amelia, former mentor of Cooper, and director of the Lazarus and Endurance missions',\n",
       " \"Casey Affleck as Tom Cooper, Joseph's son, who eventually takes charge of his father's farm\\nTimothée Chalamet as 15-year-old Tom\",\n",
       " 'Wes Bentley as Doyle, a high-ranking NASA member, and Endurance crew member\\nBill Irwin as TARS (voice and puppetry) and CASE (puppetry), robots assigned to assist the crew of the Endurance',\n",
       " \"Topher Grace as Getty, Murph's colleague and love interest\\nDavid Gyasi as Professor Romilly, a high-ranking NASA member, and Endurance crew member\",\n",
       " 'Matt Damon as Dr. Mann, a NASA astronaut sent to an icy planet during the Lazarus program',\n",
       " 'Also appearing are Josh Stewart as the voice of CASE; Leah Cairns as Lois, Tom\\'s wife; Liam Dickinson as Coop, Tom\\'s son; David Oyelowo and Collette Wolfe respectively as school principal and teacher Ms. Hanley; Francis X. McCarthy as farmer \"Boots\"; William Devane as Williams, another NASA member; Elyes Gabel as Cooper Station Administrator; and Jeff Hephner as Cooper Station Doctor.']"
      ]
     },
     "execution_count": 12,
     "metadata": {},
     "output_type": "execute_result"
    }
   ],
   "source": [
    "chunks"
   ]
  },
  {
   "cell_type": "code",
   "execution_count": 15,
   "metadata": {},
   "outputs": [
    {
     "name": "stdout",
     "output_type": "stream",
     "text": [
      "461\n",
      "655\n",
      "458\n",
      "4\n",
      "1010\n",
      "528\n",
      "448\n",
      "655\n",
      "612\n",
      "760\n",
      "330\n",
      "117\n",
      "209\n",
      "168\n",
      "197\n",
      "54\n",
      "163\n",
      "128\n",
      "188\n",
      "146\n",
      "89\n",
      "387\n"
     ]
    }
   ],
   "source": [
    "for chunk in chunks: # You can see that some chunks are more that specified sizes of 200 and why is that so ?\n",
    "    print(len(chunk))"
   ]
  },
  {
   "cell_type": "code",
   "execution_count": null,
   "metadata": {},
   "outputs": [],
   "source": [
    "chunks"
   ]
  },
  {
   "cell_type": "markdown",
   "metadata": {},
   "source": [
    "##### Something more Advance "
   ]
  },
  {
   "cell_type": "markdown",
   "metadata": {},
   "source": []
  },
  {
   "cell_type": "code",
   "execution_count": 22,
   "metadata": {},
   "outputs": [
    {
     "data": {
      "text/plain": [
       "50"
      ]
     },
     "execution_count": 22,
     "metadata": {},
     "output_type": "execute_result"
    }
   ],
   "source": [
    "from langchain.text_splitter import RecursiveCharacterTextSplitter\n",
    "\n",
    "r_splitter = RecursiveCharacterTextSplitter(\n",
    "    separators = [\"\\n\\n\", \"\\n\", \" \"],\n",
    "    chunk_size = 200,\n",
    "    chunk_overlap = 0\n",
    "\n",
    ")\n",
    "\n",
    "chunks = r_splitter.split_text(text)\n",
    "len(chunks)"
   ]
  },
  {
   "cell_type": "code",
   "execution_count": 27,
   "metadata": {},
   "outputs": [
    {
     "name": "stdout",
     "output_type": "stream",
     "text": [
      "50\n",
      "50\n",
      "50\n",
      "50\n",
      "50\n",
      "50\n",
      "50\n",
      "50\n",
      "50\n",
      "50\n",
      "50\n",
      "50\n",
      "50\n",
      "50\n",
      "50\n",
      "50\n",
      "50\n",
      "50\n",
      "50\n",
      "50\n",
      "50\n",
      "50\n",
      "50\n",
      "50\n",
      "50\n",
      "50\n",
      "50\n",
      "50\n",
      "50\n",
      "50\n",
      "50\n",
      "50\n",
      "50\n",
      "50\n",
      "50\n",
      "50\n",
      "50\n",
      "50\n",
      "50\n",
      "50\n",
      "50\n",
      "50\n",
      "50\n",
      "50\n",
      "50\n",
      "50\n",
      "50\n",
      "50\n",
      "50\n",
      "50\n"
     ]
    }
   ],
   "source": [
    "for chunk in chunks:\n",
    "    print(len(chunks))"
   ]
  },
  {
   "cell_type": "code",
   "execution_count": null,
   "metadata": {},
   "outputs": [],
   "source": []
  }
 ],
 "metadata": {
  "kernelspec": {
   "display_name": "base",
   "language": "python",
   "name": "python3"
  },
  "language_info": {
   "codemirror_mode": {
    "name": "ipython",
    "version": 3
   },
   "file_extension": ".py",
   "mimetype": "text/x-python",
   "name": "python",
   "nbconvert_exporter": "python",
   "pygments_lexer": "ipython3",
   "version": "3.12.7"
  }
 },
 "nbformat": 4,
 "nbformat_minor": 2
}
